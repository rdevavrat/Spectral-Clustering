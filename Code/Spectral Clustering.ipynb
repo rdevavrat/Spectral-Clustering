{
 "cells": [
  {
   "cell_type": "code",
   "execution_count": 1,
   "metadata": {},
   "outputs": [],
   "source": [
    "# Import necessary libraries\n",
    "import numpy as np\n",
    "import matplotlib\n",
    "import matplotlib.pyplot as plt\n",
    "import pandas as pd\n",
    "from sklearn.cluster import KMeans\n",
    "import math\n",
    "import sys\n",
    "from sklearn.decomposition import PCA"
   ]
  },
  {
   "cell_type": "code",
   "execution_count": 2,
   "metadata": {},
   "outputs": [],
   "source": [
    "# Read input data\n",
    "inputData = pd.read_csv(\"Dataset 1.txt\", sep='\\t', lineterminator='\\n', header=None)"
   ]
  },
  {
   "cell_type": "code",
   "execution_count": 3,
   "metadata": {},
   "outputs": [],
   "source": [
    "# Divide data and ground truth clusters\n",
    "data = inputData[inputData.columns[2:]]\n",
    "groundTruthClusters = inputData[inputData.columns[1:2]]"
   ]
  },
  {
   "cell_type": "code",
   "execution_count": 4,
   "metadata": {},
   "outputs": [],
   "source": [
    "# Assign parameters\n",
    "numberOfClusters = 2\n",
    "sigmaValue = 1"
   ]
  },
  {
   "cell_type": "code",
   "execution_count": 5,
   "metadata": {},
   "outputs": [],
   "source": [
    "# Retrieve all the initial centroids\n",
    "centroidListParameter = \"1,3\"\n",
    "centroidList = centroidListParameter.split(\",\")"
   ]
  },
  {
   "cell_type": "code",
   "execution_count": 6,
   "metadata": {},
   "outputs": [],
   "source": [
    "###########################################\n",
    "# Function to calculate Gaussian kernel\n",
    "###########################################\n",
    "def rbfKernel(x,y,sigmaValue):\n",
    "    \n",
    "    # Calculate the euclidean distance between the two data points\n",
    "    euclideanDistance = np.linalg.norm(x-y)\n",
    "    \n",
    "    # Calculate the gaussian value based on the calculated euclidean distance between the two data points\n",
    "    gaussianValue = np.exp(-(math.pow(euclideanDistance,2))/(math.pow(sigmaValue,2)))\n",
    "    \n",
    "    return gaussianValue"
   ]
  },
  {
   "cell_type": "code",
   "execution_count": 7,
   "metadata": {},
   "outputs": [],
   "source": [
    "# Initialize the adjacency matrix with zeros\n",
    "adjacencyMatrix = np.zeros((len(data),len(data)));\n",
    "\n",
    "# Calculate the Adjacency Matrix\n",
    "for i in range(len(data)):\n",
    "    for j in range(len(data)):\n",
    "        adjacencyMatrix[i][j] = rbfKernel((data.to_numpy())[i],(data.to_numpy())[j],sigmaValue)"
   ]
  },
  {
   "cell_type": "code",
   "execution_count": 8,
   "metadata": {},
   "outputs": [],
   "source": [
    "# Initialize the adjacency matrix with zeros\n",
    "degreeMatrix = np.zeros((len(data),len(data)));\n",
    "\n",
    "# Calculate the Degree Matrix\n",
    "for i in range(len(data)):\n",
    "    degreeMatrix[i][i] = adjacencyMatrix[i].sum() - 1"
   ]
  },
  {
   "cell_type": "code",
   "execution_count": 9,
   "metadata": {},
   "outputs": [],
   "source": [
    "# Create a digonal matrix of 1\n",
    "diagonalMatrixOfOnes = np.zeros((len(data), len(data)), int)\n",
    "np.fill_diagonal(diagonalMatrixOfOnes,1)"
   ]
  },
  {
   "cell_type": "code",
   "execution_count": 10,
   "metadata": {},
   "outputs": [],
   "source": [
    "# Calculate Lapacian Matrix\n",
    "laplacianMatrix = degreeMatrix - adjacencyMatrix + diagonalMatrixOfOnes"
   ]
  },
  {
   "cell_type": "code",
   "execution_count": 11,
   "metadata": {},
   "outputs": [],
   "source": [
    "# Eigen Decomposition\n",
    "eigenValues , eigenVectors = np.linalg.eig(laplacianMatrix)"
   ]
  },
  {
   "cell_type": "code",
   "execution_count": 12,
   "metadata": {},
   "outputs": [],
   "source": [
    "# Sort the eigen vectors in an ascending order\n",
    "ind = np.argsort(eigenValues)\n",
    "eigenValues = eigenValues[ind]\n",
    "eigenVectors = eigenVectors[:,ind]"
   ]
  },
  {
   "cell_type": "code",
   "execution_count": 13,
   "metadata": {},
   "outputs": [],
   "source": [
    "#######################################################################\n",
    "# calculate k(number of eigen vectors to select) based on Eigen_Gap\n",
    "#######################################################################\n",
    "def eigenGap(eigenValues):\n",
    "    maxGap = 0.0\n",
    "    k = -1\n",
    "    for i in range(1,len(eigenValues)):\n",
    "        if(eigenValues[i] - eigenValues[i-1]) >= maxGap:\n",
    "            maxGap = eigenValues[i] - eigenValues[i-1]\n",
    "            k = i + 1\n",
    "    return k"
   ]
  },
  {
   "cell_type": "code",
   "execution_count": 14,
   "metadata": {},
   "outputs": [],
   "source": [
    "# Determine how many eigenvectors to select\n",
    "numberOfEigenVectors = eigenGap(eigenValues)"
   ]
  },
  {
   "cell_type": "code",
   "execution_count": 15,
   "metadata": {},
   "outputs": [],
   "source": [
    "# Create the new dataset based on the numberOfEigenVectors determined by the eigengap\n",
    "newData = eigenVectors[:,:numberOfEigenVectors]"
   ]
  },
  {
   "cell_type": "code",
   "execution_count": 16,
   "metadata": {},
   "outputs": [],
   "source": [
    "# Retrieve all the centroids for kmeans initialization\n",
    "initialCentroids = []\n",
    "for i in centroidList:\n",
    "    initialCentroids.append(newData[int(i)])\n",
    "initialCentroids = np.asarray(initialCentroids)"
   ]
  },
  {
   "cell_type": "code",
   "execution_count": 17,
   "metadata": {},
   "outputs": [],
   "source": [
    "# Perform kmeans on the new dataset\n",
    "kmeans = KMeans(n_clusters=numberOfClusters,init=initialCentroids,n_init=1,random_state=1231)\n",
    "kmeans = kmeans.fit(newData)\n",
    "labels = kmeans.predict(newData)\n",
    "centroids = kmeans.cluster_centers_"
   ]
  },
  {
   "cell_type": "code",
   "execution_count": 18,
   "metadata": {},
   "outputs": [],
   "source": [
    "#######################################################################\n",
    "# Function to compute and plot PCA\n",
    "#######################################################################\n",
    "def plotPCA(data,labels):\n",
    "    pca = PCA(n_components=2)\n",
    "    data = np.matrix(data.T)\n",
    "    pca.fit(data)\n",
    "    pcaComponents = pca.components_\n",
    "    plt.figure(figsize=(8,8))\n",
    "    pc1 = pcaComponents[0,]\n",
    "    pc2 = pcaComponents[1,]\n",
    "    setOfLabels = list(set(labels))\n",
    "    colours = []\n",
    "    for i in setOfLabels:\n",
    "        colours.append(plt.cm.jet(float(i)/max(setOfLabels)))\n",
    "    for i in range(len(setOfLabels)):\n",
    "        j = i\n",
    "        x = []\n",
    "        y = []\n",
    "        for p in range(len(pc1)):\n",
    "            if labels[p] == j:\n",
    "                x.append(pc1[p])\n",
    "        for q in range(len(pc1)):\n",
    "            if labels[q] == j:\n",
    "                y.append(pc2[q])\n",
    "        plt.scatter(x, y, c=colours[i], label=str(j))\n",
    "    plt.legend()\n",
    "    plt.title(\"Dataset 1\")\n",
    "    plt.xlabel(\"PC 1\")\n",
    "    plt.ylabel(\"PC 2\")\n",
    "    plt.show()"
   ]
  },
  {
   "cell_type": "code",
   "execution_count": 19,
   "metadata": {},
   "outputs": [
    {
     "name": "stderr",
     "output_type": "stream",
     "text": [
      "'c' argument looks like a single numeric RGB or RGBA sequence, which should be avoided as value-mapping will have precedence in case its length matches with 'x' & 'y'.  Please use a 2-D array with a single row if you really want to specify the same RGB or RGBA value for all points.\n",
      "'c' argument looks like a single numeric RGB or RGBA sequence, which should be avoided as value-mapping will have precedence in case its length matches with 'x' & 'y'.  Please use a 2-D array with a single row if you really want to specify the same RGB or RGBA value for all points.\n"
     ]
    },
    {
     "data": {
      "image/png": "[encoded data removed]",
      "text/plain": [
       "<Figure size 576x576 with 1 Axes>"
      ]
     },
     "metadata": {
      "needs_background": "light"
     },
     "output_type": "display_data"
    }
   ],
   "source": [
    "plotPCA(data.values,labels)"
   ]
  },
  {
   "cell_type": "code",
   "execution_count": 20,
   "metadata": {},
   "outputs": [],
   "source": [
    "#######################################################################\n",
    "# Function to compute Jaccard coefficient and Rand index\n",
    "#######################################################################\n",
    "def metric(data,groundTruthClusters,output):\n",
    "    m11=0\n",
    "    m10=0\n",
    "    m01=0\n",
    "    m00=0\n",
    "    \n",
    "    for i in range(0,len(data)):\n",
    "        for j in range(1,len(data)):\n",
    "            if((groundTruthClusters.to_numpy())[i] == (groundTruthClusters.to_numpy())[j] and output[i] == output[j]):\n",
    "                m11=m11+1\n",
    "            elif((groundTruthClusters.to_numpy())[i] == (groundTruthClusters.to_numpy())[j] and not (output[i] == output[j])):\n",
    "                m10=m10+1\n",
    "            elif(not((groundTruthClusters.to_numpy())[i] == (groundTruthClusters.to_numpy())[j]) and output[i] == output[j]):\n",
    "                m01=m01+1\n",
    "            elif(not((groundTruthClusters.to_numpy())[i] == (groundTruthClusters.to_numpy())[j]) and not(output[i] == output[j])):\n",
    "                m00=m00+1\n",
    "\n",
    "    jacard_coeff=float(m11)/float((m11+m01+m10))\n",
    "    print(\"Jaccard Coefficient: \", jacard_coeff)\n",
    "    rand_index=float((m11+m00))/float((m11+m00+m10+m01))\n",
    "    print(\"Rand Index: \", rand_index)"
   ]
  },
  {
   "cell_type": "code",
   "execution_count": 21,
   "metadata": {},
   "outputs": [
    {
     "name": "stdout",
     "output_type": "stream",
     "text": [
      "Jaccard Coefficient:  0.5983935742971888\n",
      "Rand Index:  0.7762863534675615\n"
     ]
    }
   ],
   "source": [
    "# Compute Jaccard coefficient and Rand index\n",
    "metric(data,groundTruthClusters,labels)"
   ]
  }
 ],
 "metadata": {
  "kernelspec": {
   "display_name": "Python 3",
   "language": "python",
   "name": "python3"
  },
  "language_info": {
   "codemirror_mode": {
    "name": "ipython",
    "version": 3
   },
   "file_extension": ".py",
   "mimetype": "text/x-python",
   "name": "python",
   "nbconvert_exporter": "python",
   "pygments_lexer": "ipython3",
   "version": "3.7.3"
  }
 },
 "nbformat": 4,
 "nbformat_minor": 2
}
